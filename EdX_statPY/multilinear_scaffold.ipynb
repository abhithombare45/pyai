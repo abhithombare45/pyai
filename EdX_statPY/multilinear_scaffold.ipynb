{
 "cells": [
  {
   "cell_type": "code",
   "execution_count": null,
   "metadata": {},
   "outputs": [],
   "source": [
    "# Import necessary libraries\n",
    "import numpy as np\n",
    "import pandas as pd\n",
    "import matplotlib.pyplot as plt\n",
    "from helper import fit_and_plot_linear, fit_and_plot_multi\n",
    "\n",
    "%matplotlib inline"
   ]
  },
  {
   "cell_type": "code",
   "execution_count": 3,
   "metadata": {},
   "outputs": [],
   "source": [
    "# Read the file \"Advertising.csv\"\n",
    "df = pd.read_csv(\"./Advertising.csv\")\n"
   ]
  },
  {
   "cell_type": "code",
   "execution_count": 4,
   "metadata": {},
   "outputs": [
    {
     "data": {
      "text/html": [
       "<div>\n",
       "<style scoped>\n",
       "    .dataframe tbody tr th:only-of-type {\n",
       "        vertical-align: middle;\n",
       "    }\n",
       "\n",
       "    .dataframe tbody tr th {\n",
       "        vertical-align: top;\n",
       "    }\n",
       "\n",
       "    .dataframe thead th {\n",
       "        text-align: right;\n",
       "    }\n",
       "</style>\n",
       "<table border=\"1\" class=\"dataframe\">\n",
       "  <thead>\n",
       "    <tr style=\"text-align: right;\">\n",
       "      <th></th>\n",
       "      <th>TV</th>\n",
       "      <th>Radio</th>\n",
       "      <th>Newspaper</th>\n",
       "      <th>Sales</th>\n",
       "    </tr>\n",
       "  </thead>\n",
       "  <tbody>\n",
       "    <tr>\n",
       "      <th>0</th>\n",
       "      <td>230.1</td>\n",
       "      <td>37.8</td>\n",
       "      <td>69.2</td>\n",
       "      <td>22.1</td>\n",
       "    </tr>\n",
       "    <tr>\n",
       "      <th>1</th>\n",
       "      <td>44.5</td>\n",
       "      <td>39.3</td>\n",
       "      <td>45.1</td>\n",
       "      <td>10.4</td>\n",
       "    </tr>\n",
       "    <tr>\n",
       "      <th>2</th>\n",
       "      <td>17.2</td>\n",
       "      <td>45.9</td>\n",
       "      <td>69.3</td>\n",
       "      <td>9.3</td>\n",
       "    </tr>\n",
       "    <tr>\n",
       "      <th>3</th>\n",
       "      <td>151.5</td>\n",
       "      <td>41.3</td>\n",
       "      <td>58.5</td>\n",
       "      <td>18.5</td>\n",
       "    </tr>\n",
       "    <tr>\n",
       "      <th>4</th>\n",
       "      <td>180.8</td>\n",
       "      <td>10.8</td>\n",
       "      <td>58.4</td>\n",
       "      <td>12.9</td>\n",
       "    </tr>\n",
       "    <tr>\n",
       "      <th>5</th>\n",
       "      <td>8.7</td>\n",
       "      <td>48.9</td>\n",
       "      <td>75.0</td>\n",
       "      <td>7.2</td>\n",
       "    </tr>\n",
       "    <tr>\n",
       "      <th>6</th>\n",
       "      <td>57.5</td>\n",
       "      <td>32.8</td>\n",
       "      <td>23.5</td>\n",
       "      <td>11.8</td>\n",
       "    </tr>\n",
       "  </tbody>\n",
       "</table>\n",
       "</div>"
      ],
      "text/plain": [
       "      TV  Radio  Newspaper  Sales\n",
       "0  230.1   37.8       69.2   22.1\n",
       "1   44.5   39.3       45.1   10.4\n",
       "2   17.2   45.9       69.3    9.3\n",
       "3  151.5   41.3       58.5   18.5\n",
       "4  180.8   10.8       58.4   12.9\n",
       "5    8.7   48.9       75.0    7.2\n",
       "6   57.5   32.8       23.5   11.8"
      ]
     },
     "execution_count": 4,
     "metadata": {},
     "output_type": "execute_result"
    }
   ],
   "source": [
    "df"
   ]
  },
  {
   "cell_type": "code",
   "execution_count": null,
   "metadata": {},
   "outputs": [],
   "source": [
    "# Define an empty Pandas dataframe to store the R-squared value associated with each\n",
    "# predictor for both the train and test split\n",
    "df_results = pd.DataFrame(columns=[\"Predictor\", \"R2 Train\", \"R2 Test\"])\n"
   ]
  },
  {
   "cell_type": "code",
   "execution_count": null,
   "metadata": {},
   "outputs": [
    {
     "data": {
      "image/png": "[encoded data removed]",
      "text/plain": [
       "<Figure size 640x480 with 1 Axes>"
      ]
     },
     "metadata": {},
     "output_type": "display_data"
    },
    {
     "ename": "TypeError",
     "evalue": "cannot unpack non-iterable NoneType object",
     "output_type": "error",
     "traceback": [
      "\u001b[0;31m---------------------------------------------------------------------------\u001b[0m",
      "\u001b[0;31mTypeError\u001b[0m                                 Traceback (most recent call last)",
      "Cell \u001b[0;32mIn[8], line 37\u001b[0m\n\u001b[1;32m     34\u001b[0m y \u001b[38;5;241m=\u001b[39m df[\u001b[38;5;124m'\u001b[39m\u001b[38;5;124mSales\u001b[39m\u001b[38;5;124m'\u001b[39m]\u001b[38;5;241m.\u001b[39mvalues    \u001b[38;5;66;03m# Response (target)\u001b[39;00m\n\u001b[1;32m     36\u001b[0m \u001b[38;5;66;03m# Call the fit_and_plot_linear function\u001b[39;00m\n\u001b[0;32m---> 37\u001b[0m r2_train, r2_test \u001b[38;5;241m=\u001b[39m fit_and_plot_linear(x, y)\n\u001b[1;32m     39\u001b[0m \u001b[38;5;66;03m# Append the results to the dataframe\u001b[39;00m\n\u001b[1;32m     40\u001b[0m df_results \u001b[38;5;241m=\u001b[39m df_results\u001b[38;5;241m.\u001b[39mappend({\n\u001b[1;32m     41\u001b[0m     \u001b[38;5;124m'\u001b[39m\u001b[38;5;124mPredictor\u001b[39m\u001b[38;5;124m'\u001b[39m: predictor,\n\u001b[1;32m     42\u001b[0m     \u001b[38;5;124m'\u001b[39m\u001b[38;5;124mR2 Train\u001b[39m\u001b[38;5;124m'\u001b[39m: r2_train,\n\u001b[1;32m     43\u001b[0m     \u001b[38;5;124m'\u001b[39m\u001b[38;5;124mR2 Test\u001b[39m\u001b[38;5;124m'\u001b[39m: r2_test\n\u001b[1;32m     44\u001b[0m }, ignore_index\u001b[38;5;241m=\u001b[39m\u001b[38;5;28;01mTrue\u001b[39;00m)\n",
      "\u001b[0;31mTypeError\u001b[0m: cannot unpack non-iterable NoneType object"
     ]
    }
   ],
   "source": [
    "# For each predictor in the dataframe, call the function \"fit_and_plot_linear()\"\n",
    "# from the helper file with the predictor as a parameter to the function\n",
    "\n",
    "# This function will split the data into train and test split, fit a linear model\n",
    "# on the train data and compute the R-squared value on both the train and test data\n",
    "\n",
    "predictors = [\"TV\", \"Radio\", \"Newspaper\"]\n",
    "\n",
    "# # Iterate over each predictor\n",
    "# for predictor in predictors:\n",
    "#     # Extract the predictor (feature) and response (target)\n",
    "#     x = df[[predictor]].values  # Predictor (feature)\n",
    "#     y = df['Sales'].values      # Response (target)\n",
    "\n",
    "#     # Call the fit_and_plot_linear function\n",
    "#     r2_train, r2_test = fit_and_plot_linear(x, y)\n",
    "\n",
    "#     # Append the results to the dataframe\n",
    "#     df_results = df_results.append({\n",
    "#         'Predictor': predictor,\n",
    "#         'R2 Train': r2_train,\n",
    "#         'R2 Test': r2_test\n",
    "#     }, ignore_index=True)\n",
    "\n",
    "# # Display the results\n",
    "# print(df_results)\n",
    "\n",
    "\n",
    "# Iterate over each predictor\n",
    "for predictor in predictors:\n",
    "    # Extract the predictor (feature) and response (target)\n",
    "    x = df[predictor].values  # Predictor (feature)\n",
    "    y = df[\"Sales\"].values  # Response (target)\n",
    "\n",
    "    # Call the fit_and_plot_linear function\n",
    "    r2_train, r2_test = fit_and_plot_linear(x, y)\n",
    "\n",
    "    # Append the results to the dataframe\n",
    "    df_results = df_results.append(\n",
    "        {\"Predictor\": predictor, \"R2 Train\": r2_train, \"R2 Test\": r2_test},\n",
    "        ignore_index=True,\n",
    "    )\n",
    "\n",
    "# Display the results\n",
    "print(df_results)"
   ]
  },
  {
   "cell_type": "code",
   "execution_count": null,
   "metadata": {},
   "outputs": [],
   "source": []
  }
 ],
 "metadata": {
  "kernelspec": {
   "display_name": ".venv",
   "language": "python",
   "name": "python3"
  },
  "language_info": {
   "codemirror_mode": {
    "name": "ipython",
    "version": 3
   },
   "file_extension": ".py",
   "mimetype": "text/x-python",
   "name": "python",
   "nbconvert_exporter": "python",
   "pygments_lexer": "ipython3",
   "version": "3.13.2"
  }
 },
 "nbformat": 4,
 "nbformat_minor": 2
}
